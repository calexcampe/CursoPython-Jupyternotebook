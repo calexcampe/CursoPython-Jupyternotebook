{
 "cells": [
  {
   "cell_type": "code",
   "execution_count": null,
   "metadata": {
    "trusted": false
   },
   "outputs": [],
   "source": [
    "import numpy.random as nr\n",
    "nr.seed(12345)"
   ]
  },
  {
   "cell_type": "code",
   "execution_count": null,
   "metadata": {
    "trusted": false
   },
   "outputs": [],
   "source": [
    "nr.normal(10, 2, 50)"
   ]
  },
  {
   "cell_type": "code",
   "execution_count": null,
   "metadata": {
    "trusted": false
   },
   "outputs": [],
   "source": [
    "nr.seed(3344)\n",
    "nr.binomial(1, 0.3, 50)"
   ]
  },
  {
   "cell_type": "code",
   "execution_count": null,
   "metadata": {
    "trusted": false
   },
   "outputs": [],
   "source": [
    "nr.seed(3344)\n",
    "sample1 = nr.binomial(1, 0.3, 50)"
   ]
  },
  {
   "cell_type": "code",
   "execution_count": null,
   "metadata": {
    "trusted": false
   },
   "outputs": [],
   "source": [
    "from scipy import stats\n",
    "print(stats.itemfreq(sample1))"
   ]
  },
  {
   "cell_type": "code",
   "execution_count": null,
   "metadata": {
    "trusted": false
   },
   "outputs": [],
   "source": [
    "13.0/(13.0 + 37.0)"
   ]
  },
  {
   "cell_type": "code",
   "execution_count": null,
   "metadata": {
    "trusted": false
   },
   "outputs": [],
   "source": [
    "import numpy as np\n",
    "np.mean(sample1)"
   ]
  },
  {
   "cell_type": "code",
   "execution_count": null,
   "metadata": {
    "trusted": false
   },
   "outputs": [],
   "source": [
    "print(np.mean(nr.binomial(1, 0.3, 50)))\n",
    "print(np.mean(nr.binomial(1, 0.3, 50)))\n",
    "print(np.mean(nr.binomial(1, 0.3, 50)))\n",
    "print(np.mean(nr.binomial(1, 0.3, 50)))\n",
    "print(np.mean(nr.binomial(1, 0.3, 50)))\n",
    "print(np.mean(nr.binomial(1, 0.3, 50)))"
   ]
  },
  {
   "cell_type": "code",
   "execution_count": null,
   "metadata": {
    "trusted": false
   },
   "outputs": [],
   "source": [
    "nr.seed(9977)\n",
    "results = [np.mean(nr.binomial(1, 0.3, 50)) for _ in range(100)]\n",
    "print(results)"
   ]
  },
  {
   "cell_type": "code",
   "execution_count": null,
   "metadata": {
    "trusted": false
   },
   "outputs": [],
   "source": [
    "# So the plot appears in line in the noteboook\n",
    "%matplotlib inline \n",
    "\n",
    "sample_mean = np.mean(results)\n",
    "import matplotlib.pyplot as plt\n",
    "plt.hist(results)\n",
    "plt.vlines(0.3, 0.0, 28.0, color = 'red')\n",
    "plt.vlines(sample_mean, 0.0, 28.0, color = 'black')\n",
    "plt.xlabel('Results') \n",
    "plt.ylabel('Frequency')\n",
    "plt.title('Histogram of results')"
   ]
  },
  {
   "cell_type": "code",
   "execution_count": null,
   "metadata": {
    "trusted": false
   },
   "outputs": [],
   "source": [
    "results_error = [round(x - 0.3, 2) for x in results]\n",
    "print(results_error)"
   ]
  },
  {
   "cell_type": "code",
   "execution_count": null,
   "metadata": {
    "trusted": false
   },
   "outputs": [],
   "source": [
    "np.std(results_error)"
   ]
  },
  {
   "cell_type": "code",
   "execution_count": null,
   "metadata": {
    "trusted": false
   },
   "outputs": [],
   "source": [
    "import math\n",
    "math.sqrt((.30*(1-.3))/(50-1))"
   ]
  },
  {
   "cell_type": "code",
   "execution_count": null,
   "metadata": {
    "trusted": false
   },
   "outputs": [],
   "source": [
    "math.sqrt((.30*(1-.3))/(700-1))"
   ]
  },
  {
   "cell_type": "code",
   "execution_count": null,
   "metadata": {
    "trusted": false
   },
   "outputs": [],
   "source": [
    "nr.seed(4466)\n",
    "results = [np.mean(nr.binomial(1, 0.3, 700)) for _ in range(100)]\n",
    "\n",
    "print(np.std(results))\n",
    "\n",
    "sample_mean = np.mean(results)\n",
    "import matplotlib.pyplot as plt\n",
    "plt.hist(results)\n",
    "plt.vlines(0.3, 0.0, 28.0, color = 'red')\n",
    "plt.vlines(sample_mean, 0.0, 28.0, color = 'black')\n",
    "plt.xlabel('Results') \n",
    "plt.ylabel('Frequency')\n",
    "plt.title('Histogram of results')"
   ]
  },
  {
   "cell_type": "code",
   "execution_count": null,
   "metadata": {
    "trusted": false
   },
   "outputs": [],
   "source": [
    ""
   ]
  }
 ],
 "metadata": {
  "kernelspec": {
   "name": "python3",
   "display_name": "Python 3",
   "language": "python"
  },
  "language_info": {
   "mimetype": "text/x-python",
   "nbconvert_exporter": "python",
   "name": "python",
   "file_extension": ".py",
   "version": "3.5.4",
   "pygments_lexer": "ipython3",
   "codemirror_mode": {
    "version": 3,
    "name": "ipython"
   }
  }
 },
 "nbformat": 4,
 "nbformat_minor": 2
}
